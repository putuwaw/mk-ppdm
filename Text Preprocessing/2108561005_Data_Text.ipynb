{
  "cells": [
    {
      "cell_type": "code",
      "execution_count": 1,
      "metadata": {
        "id": "cVhsuBUrSoEd"
      },
      "outputs": [],
      "source": [
        "doc1 = \"elearning di PTIIK diatas jam 6 malam kok selalu gak bisa dibuka ya?\"\n",
        "doc2 = \"ub tidak punya lahan parkir yang layak. Dan jalanan terlalu ramai karena di buka untuk umum. Seperti jalan tol saja. Brawijaya oh brawijaya\"\n",
        "doc3 = \"Kelas Arsitektur dan Organisasi Komputer penuh, apakah tidak dibuka kelas lagi. Rugi kalo saya bisa ngambil 24 SKS tapi baru 18 SKS yg terpenuhi\"\n",
        "doc4 = \"Informasi tata cara daftar ulang bagi mahasiswa baru PTIIK kurang jelas. Sehingga ketika tanggal terakhir syarat penyerahan berkas daftar ulang, banyak mahasiswa baru yang tidak membawa salah satu syarat daftar ulangnya.\""
      ]
    },
    {
      "cell_type": "code",
      "execution_count": 2,
      "metadata": {
        "colab": {
          "base_uri": "https://localhost:8080/"
        },
        "id": "0YgGuPqsTBOq",
        "outputId": "0572cae3-8210-47b4-d3f4-83104a96c726"
      },
      "outputs": [
        {
          "data": {
            "text/plain": [
              "['elearning di PTIIK diatas jam 6 malam kok selalu gak bisa dibuka ya?',\n",
              " 'ub tidak punya lahan parkir yang layak. Dan jalanan terlalu ramai karena di buka untuk umum. Seperti jalan tol saja. Brawijaya oh brawijaya',\n",
              " 'Kelas Arsitektur dan Organisasi Komputer penuh, apakah tidak dibuka kelas lagi. Rugi kalo saya bisa ngambil 24 SKS tapi baru 18 SKS yg terpenuhi',\n",
              " 'Informasi tata cara daftar ulang bagi mahasiswa baru PTIIK kurang jelas. Sehingga ketika tanggal terakhir syarat penyerahan berkas daftar ulang, banyak mahasiswa baru yang tidak membawa salah satu syarat daftar ulangnya.']"
            ]
          },
          "execution_count": 2,
          "metadata": {},
          "output_type": "execute_result"
        }
      ],
      "source": [
        "# parsing\n",
        "doc_list = [doc1, doc2, doc3, doc4]\n",
        "doc_list"
      ]
    },
    {
      "cell_type": "code",
      "execution_count": 3,
      "metadata": {
        "colab": {
          "base_uri": "https://localhost:8080/"
        },
        "id": "IagpVxNEUFI1",
        "outputId": "cbf5ddc1-4b0e-405d-9ade-67f7196a5b56"
      },
      "outputs": [
        {
          "data": {
            "text/plain": [
              "[['elearning',\n",
              "  'di',\n",
              "  'PTIIK',\n",
              "  'diatas',\n",
              "  'jam',\n",
              "  '6',\n",
              "  'malam',\n",
              "  'kok',\n",
              "  'selalu',\n",
              "  'gak',\n",
              "  'bisa',\n",
              "  'dibuka',\n",
              "  'ya?'],\n",
              " ['ub',\n",
              "  'tidak',\n",
              "  'punya',\n",
              "  'lahan',\n",
              "  'parkir',\n",
              "  'yang',\n",
              "  'layak.',\n",
              "  'Dan',\n",
              "  'jalanan',\n",
              "  'terlalu',\n",
              "  'ramai',\n",
              "  'karena',\n",
              "  'di',\n",
              "  'buka',\n",
              "  'untuk',\n",
              "  'umum.',\n",
              "  'Seperti',\n",
              "  'jalan',\n",
              "  'tol',\n",
              "  'saja.',\n",
              "  'Brawijaya',\n",
              "  'oh',\n",
              "  'brawijaya'],\n",
              " ['Kelas',\n",
              "  'Arsitektur',\n",
              "  'dan',\n",
              "  'Organisasi',\n",
              "  'Komputer',\n",
              "  'penuh,',\n",
              "  'apakah',\n",
              "  'tidak',\n",
              "  'dibuka',\n",
              "  'kelas',\n",
              "  'lagi.',\n",
              "  'Rugi',\n",
              "  'kalo',\n",
              "  'saya',\n",
              "  'bisa',\n",
              "  'ngambil',\n",
              "  '24',\n",
              "  'SKS',\n",
              "  'tapi',\n",
              "  'baru',\n",
              "  '18',\n",
              "  'SKS',\n",
              "  'yg',\n",
              "  'terpenuhi'],\n",
              " ['Informasi',\n",
              "  'tata',\n",
              "  'cara',\n",
              "  'daftar',\n",
              "  'ulang',\n",
              "  'bagi',\n",
              "  'mahasiswa',\n",
              "  'baru',\n",
              "  'PTIIK',\n",
              "  'kurang',\n",
              "  'jelas.',\n",
              "  'Sehingga',\n",
              "  'ketika',\n",
              "  'tanggal',\n",
              "  'terakhir',\n",
              "  'syarat',\n",
              "  'penyerahan',\n",
              "  'berkas',\n",
              "  'daftar',\n",
              "  'ulang,',\n",
              "  'banyak',\n",
              "  'mahasiswa',\n",
              "  'baru',\n",
              "  'yang',\n",
              "  'tidak',\n",
              "  'membawa',\n",
              "  'salah',\n",
              "  'satu',\n",
              "  'syarat',\n",
              "  'daftar',\n",
              "  'ulangnya.']]"
            ]
          },
          "execution_count": 3,
          "metadata": {},
          "output_type": "execute_result"
        }
      ],
      "source": [
        "# tokenization\n",
        "token_list = [x.split() for x in doc_list]\n",
        "token_list"
      ]
    },
    {
      "cell_type": "code",
      "execution_count": 4,
      "metadata": {
        "id": "N3eTZ6VXUGAv"
      },
      "outputs": [],
      "source": [
        "import re"
      ]
    },
    {
      "cell_type": "code",
      "execution_count": 5,
      "metadata": {
        "colab": {
          "base_uri": "https://localhost:8080/"
        },
        "id": "LdkmU57bVCnc",
        "outputId": "62015282-c94a-42a7-d74f-505a61800f3a"
      },
      "outputs": [
        {
          "data": {
            "text/plain": [
              "[['elearning',\n",
              "  'di',\n",
              "  'PTIIK',\n",
              "  'diatas',\n",
              "  'jam',\n",
              "  'malam',\n",
              "  'kok',\n",
              "  'selalu',\n",
              "  'gak',\n",
              "  'bisa',\n",
              "  'dibuka',\n",
              "  'ya'],\n",
              " ['ub',\n",
              "  'tidak',\n",
              "  'punya',\n",
              "  'lahan',\n",
              "  'parkir',\n",
              "  'yang',\n",
              "  'layak',\n",
              "  'Dan',\n",
              "  'jalanan',\n",
              "  'terlalu',\n",
              "  'ramai',\n",
              "  'karena',\n",
              "  'di',\n",
              "  'buka',\n",
              "  'untuk',\n",
              "  'umum',\n",
              "  'Seperti',\n",
              "  'jalan',\n",
              "  'tol',\n",
              "  'saja',\n",
              "  'Brawijaya',\n",
              "  'oh',\n",
              "  'brawijaya'],\n",
              " ['Kelas',\n",
              "  'Arsitektur',\n",
              "  'dan',\n",
              "  'Organisasi',\n",
              "  'Komputer',\n",
              "  'penuh',\n",
              "  'apakah',\n",
              "  'tidak',\n",
              "  'dibuka',\n",
              "  'kelas',\n",
              "  'lagi',\n",
              "  'Rugi',\n",
              "  'kalo',\n",
              "  'saya',\n",
              "  'bisa',\n",
              "  'ngambil',\n",
              "  'SKS',\n",
              "  'tapi',\n",
              "  'baru',\n",
              "  'SKS',\n",
              "  'yg',\n",
              "  'terpenuhi'],\n",
              " ['Informasi',\n",
              "  'tata',\n",
              "  'cara',\n",
              "  'daftar',\n",
              "  'ulang',\n",
              "  'bagi',\n",
              "  'mahasiswa',\n",
              "  'baru',\n",
              "  'PTIIK',\n",
              "  'kurang',\n",
              "  'jelas',\n",
              "  'Sehingga',\n",
              "  'ketika',\n",
              "  'tanggal',\n",
              "  'terakhir',\n",
              "  'syarat',\n",
              "  'penyerahan',\n",
              "  'berkas',\n",
              "  'daftar',\n",
              "  'ulang',\n",
              "  'banyak',\n",
              "  'mahasiswa',\n",
              "  'baru',\n",
              "  'yang',\n",
              "  'tidak',\n",
              "  'membawa',\n",
              "  'salah',\n",
              "  'satu',\n",
              "  'syarat',\n",
              "  'daftar',\n",
              "  'ulangnya']]"
            ]
          },
          "execution_count": 5,
          "metadata": {},
          "output_type": "execute_result"
        }
      ],
      "source": [
        "# remove punctuation\n",
        "punctuation_list = [[re.sub(r'[^a-zA-Z]', \"\", token) for token in data \\\n",
        "                     if re.sub(r'[^a-zA-Z]', \"\", token) != \"\"] \\\n",
        "                    for data in token_list]\n",
        "punctuation_list"
      ]
    },
    {
      "cell_type": "code",
      "execution_count": 6,
      "metadata": {
        "colab": {
          "base_uri": "https://localhost:8080/"
        },
        "id": "l6LGeeilXlwf",
        "outputId": "a6beae10-90f1-4846-a84f-45f0414c547b"
      },
      "outputs": [
        {
          "data": {
            "text/plain": [
              "[['elearning',\n",
              "  'di',\n",
              "  'ptiik',\n",
              "  'diatas',\n",
              "  'jam',\n",
              "  'malam',\n",
              "  'kok',\n",
              "  'selalu',\n",
              "  'gak',\n",
              "  'bisa',\n",
              "  'dibuka',\n",
              "  'ya'],\n",
              " ['ub',\n",
              "  'tidak',\n",
              "  'punya',\n",
              "  'lahan',\n",
              "  'parkir',\n",
              "  'yang',\n",
              "  'layak',\n",
              "  'dan',\n",
              "  'jalanan',\n",
              "  'terlalu',\n",
              "  'ramai',\n",
              "  'karena',\n",
              "  'di',\n",
              "  'buka',\n",
              "  'untuk',\n",
              "  'umum',\n",
              "  'seperti',\n",
              "  'jalan',\n",
              "  'tol',\n",
              "  'saja',\n",
              "  'brawijaya',\n",
              "  'oh',\n",
              "  'brawijaya'],\n",
              " ['kelas',\n",
              "  'arsitektur',\n",
              "  'dan',\n",
              "  'organisasi',\n",
              "  'komputer',\n",
              "  'penuh',\n",
              "  'apakah',\n",
              "  'tidak',\n",
              "  'dibuka',\n",
              "  'kelas',\n",
              "  'lagi',\n",
              "  'rugi',\n",
              "  'kalo',\n",
              "  'saya',\n",
              "  'bisa',\n",
              "  'ngambil',\n",
              "  'sks',\n",
              "  'tapi',\n",
              "  'baru',\n",
              "  'sks',\n",
              "  'yg',\n",
              "  'terpenuhi'],\n",
              " ['informasi',\n",
              "  'tata',\n",
              "  'cara',\n",
              "  'daftar',\n",
              "  'ulang',\n",
              "  'bagi',\n",
              "  'mahasiswa',\n",
              "  'baru',\n",
              "  'ptiik',\n",
              "  'kurang',\n",
              "  'jelas',\n",
              "  'sehingga',\n",
              "  'ketika',\n",
              "  'tanggal',\n",
              "  'terakhir',\n",
              "  'syarat',\n",
              "  'penyerahan',\n",
              "  'berkas',\n",
              "  'daftar',\n",
              "  'ulang',\n",
              "  'banyak',\n",
              "  'mahasiswa',\n",
              "  'baru',\n",
              "  'yang',\n",
              "  'tidak',\n",
              "  'membawa',\n",
              "  'salah',\n",
              "  'satu',\n",
              "  'syarat',\n",
              "  'daftar',\n",
              "  'ulangnya']]"
            ]
          },
          "execution_count": 6,
          "metadata": {},
          "output_type": "execute_result"
        }
      ],
      "source": [
        "# case folding\n",
        "casefold_list = [[token.lower() for token in doc] for doc in punctuation_list]\n",
        "casefold_list"
      ]
    },
    {
      "cell_type": "code",
      "execution_count": 7,
      "metadata": {
        "colab": {
          "base_uri": "https://localhost:8080/"
        },
        "id": "NtOL_4EuaNTz",
        "outputId": "e4aba630-ec3e-4f91-9318-b58bd00b9727"
      },
      "outputs": [
        {
          "data": {
            "text/plain": [
              "758"
            ]
          },
          "execution_count": 7,
          "metadata": {},
          "output_type": "execute_result"
        }
      ],
      "source": [
        "# cleaning ? imo no need beacuse no html tag or internet link or others\n",
        "\n",
        "# next stopword removal (actually from nltk)\n",
        "stopword = ['ada', 'adalah', 'adanya', 'adapun', 'agak', 'agaknya', 'agar', 'akan', 'akankah', 'akhir', 'akhiri', 'akhirnya', 'aku', 'akulah', 'amat', 'amatlah', 'anda', 'andalah', 'antar', 'antara', 'antaranya', 'apa', 'apaan', 'apabila', 'apakah', 'apalagi', 'apatah', 'artinya', 'asal', 'asalkan', 'atas', 'atau', 'ataukah', 'ataupun', 'awal', 'awalnya', 'bagai', 'bagaikan', 'bagaimana', 'bagaimanakah', 'bagaimanapun', 'bagi', 'bagian', 'bahkan', 'bahwa', 'bahwasanya', 'baik', 'bakal', 'bakalan', 'balik', 'banyak', 'bapak', 'baru', 'bawah', 'beberapa', 'begini', 'beginian', 'beginikah', 'beginilah', 'begitu', 'begitukah', 'begitulah', 'begitupun', 'bekerja', 'belakang', 'belakangan', 'belum', 'belumlah', 'benar', 'benarkah', 'benarlah', 'berada', 'berakhir', 'berakhirlah', 'berakhirnya', 'berapa', 'berapakah', 'berapalah', 'berapapun', 'berarti', 'berawal', 'berbagai', 'berdatangan', 'beri', 'berikan', 'berikut', 'berikutnya', 'berjumlah', 'berkali-kali', 'berkata', 'berkehendak', 'berkeinginan', 'berkenaan', 'berlainan', 'berlalu', 'berlangsung', 'berlebihan', 'bermacam', 'bermacam-macam', 'bermaksud', 'bermula', 'bersama', 'bersama-sama', 'bersiap', 'bersiap-siap', 'bertanya', 'bertanya-tanya', 'berturut', 'berturut-turut', 'bertutur', 'berujar', 'berupa', 'besar', 'betul', 'betulkah', 'biasa', 'biasanya', 'bila', 'bilakah', 'bisa', 'bisakah', 'boleh', 'bolehkah', 'bolehlah', 'buat', 'bukan', 'bukankah', 'bukanlah', 'bukannya', 'bulan', 'bung', 'cara', 'caranya', 'cukup', 'cukupkah', 'cukuplah', 'cuma', 'dahulu', 'dalam', 'dan', 'dapat', 'dari', 'daripada', 'datang', 'dekat', 'demi', 'demikian', 'demikianlah', 'dengan', 'depan', 'di', 'dia', 'diakhiri', 'diakhirinya', 'dialah', 'diantara', 'diantaranya', 'diberi', 'diberikan', 'diberikannya', 'dibuat', 'dibuatnya', 'didapat', 'didatangkan', 'digunakan', 'diibaratkan', 'diibaratkannya', 'diingat', 'diingatkan', 'diinginkan', 'dijawab', 'dijelaskan', 'dijelaskannya', 'dikarenakan', 'dikatakan', 'dikatakannya', 'dikerjakan', 'diketahui', 'diketahuinya', 'dikira', 'dilakukan', 'dilalui', 'dilihat', 'dimaksud', 'dimaksudkan', 'dimaksudkannya', 'dimaksudnya', 'diminta', 'dimintai', 'dimisalkan', 'dimulai', 'dimulailah', 'dimulainya', 'dimungkinkan', 'dini', 'dipastikan', 'diperbuat', 'diperbuatnya', 'dipergunakan', 'diperkirakan', 'diperlihatkan', 'diperlukan', 'diperlukannya', 'dipersoalkan', 'dipertanyakan', 'dipunyai', 'diri', 'dirinya', 'disampaikan', 'disebut', 'disebutkan', 'disebutkannya', 'disini', 'disinilah', 'ditambahkan', 'ditandaskan', 'ditanya', 'ditanyai', 'ditanyakan', 'ditegaskan', 'ditujukan', 'ditunjuk', 'ditunjuki', 'ditunjukkan', 'ditunjukkannya', 'ditunjuknya', 'dituturkan', 'dituturkannya', 'diucapkan', 'diucapkannya', 'diungkapkan', 'dong', 'dua', 'dulu', 'empat', 'enggak', 'enggaknya', 'entah', 'entahlah', 'guna', 'gunakan', 'hal', 'hampir', 'hanya', 'hanyalah', 'hari', 'harus', 'haruslah', 'harusnya', 'hendak', 'hendaklah', 'hendaknya', 'hingga', 'ia', 'ialah', 'ibarat', 'ibaratkan', 'ibaratnya', 'ibu', 'ikut', 'ingat', 'ingat-ingat', 'ingin', 'inginkah', 'inginkan', 'ini', 'inikah', 'inilah', 'itu', 'itukah', 'itulah', 'jadi', 'jadilah', 'jadinya', 'jangan', 'jangankan', 'janganlah', 'jauh', 'jawab', 'jawaban', 'jawabnya', 'jelas', 'jelaskan', 'jelaslah', 'jelasnya', 'jika', 'jikalau', 'juga', 'jumlah', 'jumlahnya', 'justru', 'kala', 'kalau', 'kalaulah', 'kalaupun', 'kalian', 'kami', 'kamilah', 'kamu', 'kamulah', 'kan', 'kapan', 'kapankah', 'kapanpun', 'karena', 'karenanya', 'kasus', 'kata', 'katakan', 'katakanlah', 'katanya', 'ke', 'keadaan', 'kebetulan', 'kecil', 'kedua', 'keduanya', 'keinginan', 'kelamaan', 'kelihatan', 'kelihatannya', 'kelima', 'keluar', 'kembali', 'kemudian', 'kemungkinan', 'kemungkinannya', 'kenapa', 'kepada', 'kepadanya', 'kesampaian', 'keseluruhan', 'keseluruhannya', 'keterlaluan', 'ketika', 'khususnya', 'kini', 'kinilah', 'kira', 'kira-kira', 'kiranya', 'kita', 'kitalah', 'kok', 'kurang', 'lagi', 'lagian', 'lah', 'lain', 'lainnya', 'lalu', 'lama', 'lamanya', 'lanjut', 'lanjutnya', 'lebih', 'lewat', 'lima', 'luar', 'macam', 'maka', 'makanya', 'makin', 'malah', 'malahan', 'mampu', 'mampukah', 'mana', 'manakala', 'manalagi', 'masa', 'masalah', 'masalahnya', 'masih', 'masihkah', 'masing', 'masing-masing', 'mau', 'maupun', 'melainkan', 'melakukan', 'melalui', 'melihat', 'melihatnya', 'memang', 'memastikan', 'memberi', 'memberikan', 'membuat', 'memerlukan', 'memihak', 'meminta', 'memintakan', 'memisalkan', 'memperbuat', 'mempergunakan', 'memperkirakan', 'memperlihatkan', 'mempersiapkan', 'mempersoalkan', 'mempertanyakan', 'mempunyai', 'memulai', 'memungkinkan', 'menaiki', 'menambahkan', 'menandaskan', 'menanti', 'menanti-nanti', 'menantikan', 'menanya', 'menanyai', 'menanyakan', 'mendapat', 'mendapatkan', 'mendatang', 'mendatangi', 'mendatangkan', 'menegaskan', 'mengakhiri', 'mengapa', 'mengatakan', 'mengatakannya', 'mengenai', 'mengerjakan', 'mengetahui', 'menggunakan', 'menghendaki', 'mengibaratkan', 'mengibaratkannya', 'mengingat', 'mengingatkan', 'menginginkan', 'mengira', 'mengucapkan', 'mengucapkannya', 'mengungkapkan', 'menjadi', 'menjawab', 'menjelaskan', 'menuju', 'menunjuk', 'menunjuki', 'menunjukkan', 'menunjuknya', 'menurut', 'menuturkan', 'menyampaikan', 'menyangkut', 'menyatakan', 'menyebutkan', 'menyeluruh', 'menyiapkan', 'merasa', 'mereka', 'merekalah', 'merupakan', 'meski', 'meskipun', 'meyakini', 'meyakinkan', 'minta', 'mirip', 'misal', 'misalkan', 'misalnya', 'mula', 'mulai', 'mulailah', 'mulanya', 'mungkin', 'mungkinkah', 'nah', 'naik', 'namun', 'nanti', 'nantinya', 'nyaris', 'nyatanya', 'oleh', 'olehnya', 'pada', 'padahal', 'padanya', 'pak', 'paling', 'panjang', 'pantas', 'para', 'pasti', 'pastilah', 'penting', 'pentingnya', 'per', 'percuma', 'perlu', 'perlukah', 'perlunya', 'pernah', 'persoalan', 'pertama', 'pertama-tama', 'pertanyaan', 'pertanyakan', 'pihak', 'pihaknya', 'pukul', 'pula', 'pun', 'punya', 'rasa', 'rasanya', 'rata', 'rupanya', 'saat', 'saatnya', 'saja', 'sajalah', 'saling', 'sama', 'sama-sama', 'sambil', 'sampai', 'sampai-sampai', 'sampaikan', 'sana', 'sangat', 'sangatlah', 'satu', 'saya', 'sayalah', 'se', 'sebab', 'sebabnya', 'sebagai', 'sebagaimana', 'sebagainya', 'sebagian', 'sebaik', 'sebaik-baiknya', 'sebaiknya', 'sebaliknya', 'sebanyak', 'sebegini', 'sebegitu', 'sebelum', 'sebelumnya', 'sebenarnya', 'seberapa', 'sebesar', 'sebetulnya', 'sebisanya', 'sebuah', 'sebut', 'sebutlah', 'sebutnya', 'secara', 'secukupnya', 'sedang', 'sedangkan', 'sedemikian', 'sedikit', 'sedikitnya', 'seenaknya', 'segala', 'segalanya', 'segera', 'seharusnya', 'sehingga', 'seingat', 'sejak', 'sejauh', 'sejenak', 'sejumlah', 'sekadar', 'sekadarnya', 'sekali', 'sekali-kali', 'sekalian', 'sekaligus', 'sekalipun', 'sekarang', 'sekarang', 'sekecil', 'seketika', 'sekiranya', 'sekitar', 'sekitarnya', 'sekurang-kurangnya', 'sekurangnya', 'sela', 'selain', 'selaku', 'selalu', 'selama', 'selama-lamanya', 'selamanya', 'selanjutnya', 'seluruh', 'seluruhnya', 'semacam', 'semakin', 'semampu', 'semampunya', 'semasa', 'semasih', 'semata', 'semata-mata', 'semaunya', 'sementara', 'semisal', 'semisalnya', 'sempat', 'semua', 'semuanya', 'semula', 'sendiri', 'sendirian', 'sendirinya', 'seolah', 'seolah-olah', 'seorang', 'sepanjang', 'sepantasnya', 'sepantasnyalah', 'seperlunya', 'seperti', 'sepertinya', 'sepihak', 'sering', 'seringnya', 'serta', 'serupa', 'sesaat', 'sesama', 'sesampai', 'sesegera', 'sesekali', 'seseorang', 'sesuatu', 'sesuatunya', 'sesudah', 'sesudahnya', 'setelah', 'setempat', 'setengah', 'seterusnya', 'setiap', 'setiba', 'setibanya', 'setidak-tidaknya', 'setidaknya', 'setinggi', 'seusai', 'sewaktu', 'siap', 'siapa', 'siapakah', 'siapapun', 'sini', 'sinilah', 'soal', 'soalnya', 'suatu', 'sudah', 'sudahkah', 'sudahlah', 'supaya', 'tadi', 'tadinya', 'tahu', 'tahun', 'tak', 'tambah', 'tambahnya', 'tampak', 'tampaknya', 'tandas', 'tandasnya', 'tanpa', 'tanya', 'tanyakan', 'tanyanya', 'tapi', 'tegas', 'tegasnya', 'telah', 'tempat', 'tengah', 'tentang', 'tentu', 'tentulah', 'tentunya', 'tepat', 'terakhir', 'terasa', 'terbanyak', 'terdahulu', 'terdapat', 'terdiri', 'terhadap', 'terhadapnya', 'teringat', 'teringat-ingat', 'terjadi', 'terjadilah', 'terjadinya', 'terkira', 'terlalu', 'terlebih', 'terlihat', 'termasuk', 'ternyata', 'tersampaikan', 'tersebut', 'tersebutlah', 'tertentu', 'tertuju', 'terus', 'terutama', 'tetap', 'tetapi', 'tiap', 'tiba', 'tiba-tiba', 'tidak', 'tidakkah', 'tidaklah', 'tiga', 'tinggi', 'toh', 'tunjuk', 'turut', 'tutur', 'tuturnya', 'ucap', 'ucapnya', 'ujar', 'ujarnya', 'umum', 'umumnya', 'ungkap', 'ungkapnya', 'untuk', 'usah', 'usai', 'waduh', 'wah', 'wahai', 'waktu', 'waktunya', 'walau', 'walaupun', 'wong', 'yaitu', 'yakin', 'yakni', 'yang']\n",
        "len(stopword)"
      ]
    },
    {
      "cell_type": "code",
      "execution_count": 8,
      "metadata": {
        "colab": {
          "base_uri": "https://localhost:8080/"
        },
        "id": "nV8jPJ0wb9Dp",
        "outputId": "52ddacf8-28fd-47de-ebda-1fea65c1525f"
      },
      "outputs": [
        {
          "data": {
            "text/plain": [
              "[['elearning', 'ptiik', 'diatas', 'jam', 'malam', 'gak', 'dibuka', 'ya'],\n",
              " ['ub',\n",
              "  'lahan',\n",
              "  'parkir',\n",
              "  'layak',\n",
              "  'jalanan',\n",
              "  'ramai',\n",
              "  'buka',\n",
              "  'jalan',\n",
              "  'tol',\n",
              "  'brawijaya',\n",
              "  'oh',\n",
              "  'brawijaya'],\n",
              " ['kelas',\n",
              "  'arsitektur',\n",
              "  'organisasi',\n",
              "  'komputer',\n",
              "  'penuh',\n",
              "  'dibuka',\n",
              "  'kelas',\n",
              "  'rugi',\n",
              "  'kalo',\n",
              "  'ngambil',\n",
              "  'sks',\n",
              "  'sks',\n",
              "  'yg',\n",
              "  'terpenuhi'],\n",
              " ['informasi',\n",
              "  'tata',\n",
              "  'daftar',\n",
              "  'ulang',\n",
              "  'mahasiswa',\n",
              "  'ptiik',\n",
              "  'tanggal',\n",
              "  'syarat',\n",
              "  'penyerahan',\n",
              "  'berkas',\n",
              "  'daftar',\n",
              "  'ulang',\n",
              "  'mahasiswa',\n",
              "  'membawa',\n",
              "  'salah',\n",
              "  'syarat',\n",
              "  'daftar',\n",
              "  'ulangnya']]"
            ]
          },
          "execution_count": 8,
          "metadata": {},
          "output_type": "execute_result"
        }
      ],
      "source": [
        "stopword_list = [[token for token in doc if token not in stopword] for doc in casefold_list]\n",
        "stopword_list"
      ]
    },
    {
      "cell_type": "code",
      "execution_count": 9,
      "metadata": {
        "colab": {
          "base_uri": "https://localhost:8080/"
        },
        "id": "TXerOWEm3LqX",
        "outputId": "e315495c-697b-4a9a-f44f-97683e2df4cd"
      },
      "outputs": [
        {
          "name": "stdout",
          "output_type": "stream",
          "text": [
            "Collecting Sastrawi\n",
            "  Using cached Sastrawi-1.0.1-py2.py3-none-any.whl (209 kB)\n",
            "Installing collected packages: Sastrawi\n",
            "Successfully installed Sastrawi-1.0.1\n"
          ]
        }
      ],
      "source": [
        "!pip install Sastrawi"
      ]
    },
    {
      "cell_type": "code",
      "execution_count": 10,
      "metadata": {
        "colab": {
          "base_uri": "https://localhost:8080/"
        },
        "id": "6MuyyW4Rcqko",
        "outputId": "e5205bd6-4db6-4237-b492-f46cb12b8617"
      },
      "outputs": [
        {
          "data": {
            "text/plain": [
              "[['elearning', 'ptiik', 'atas', 'jam', 'malam', 'gak', 'buka', 'ya'],\n",
              " ['ub',\n",
              "  'lahan',\n",
              "  'parkir',\n",
              "  'layak',\n",
              "  'jalan',\n",
              "  'ramai',\n",
              "  'buka',\n",
              "  'jalan',\n",
              "  'tol',\n",
              "  'brawijaya',\n",
              "  'oh',\n",
              "  'brawijaya'],\n",
              " ['kelas',\n",
              "  'arsitektur',\n",
              "  'organisasi',\n",
              "  'komputer',\n",
              "  'penuh',\n",
              "  'buka',\n",
              "  'kelas',\n",
              "  'rugi',\n",
              "  'kalo',\n",
              "  'ngambil',\n",
              "  'sks',\n",
              "  'sks',\n",
              "  'yg',\n",
              "  'penuh'],\n",
              " ['informasi',\n",
              "  'tata',\n",
              "  'daftar',\n",
              "  'ulang',\n",
              "  'mahasiswa',\n",
              "  'ptiik',\n",
              "  'tanggal',\n",
              "  'syarat',\n",
              "  'serah',\n",
              "  'berkas',\n",
              "  'daftar',\n",
              "  'ulang',\n",
              "  'mahasiswa',\n",
              "  'bawa',\n",
              "  'salah',\n",
              "  'syarat',\n",
              "  'daftar',\n",
              "  'ulang']]"
            ]
          },
          "execution_count": 10,
          "metadata": {},
          "output_type": "execute_result"
        }
      ],
      "source": [
        "from Sastrawi.Stemmer.StemmerFactory import StemmerFactory\n",
        "factory = StemmerFactory()\n",
        "stemmer = factory.create_stemmer()\n",
        "\n",
        "stem_list = [[stemmer.stem(token) for token in doc] for doc in stopword_list]\n",
        "stem_list"
      ]
    },
    {
      "cell_type": "code",
      "execution_count": 11,
      "metadata": {
        "id": "jzLcYZg3qiTb"
      },
      "outputs": [],
      "source": [
        "import math"
      ]
    },
    {
      "cell_type": "code",
      "execution_count": 12,
      "metadata": {
        "colab": {
          "base_uri": "https://localhost:8080/"
        },
        "id": "joKHuzY-l3Yn",
        "outputId": "64d9e556-e465-4935-9b45-394925d6013f"
      },
      "outputs": [
        {
          "data": {
            "text/plain": [
              "[[1.3862943611198906,\n",
              "  0.6931471805599453,\n",
              "  1.3862943611198906,\n",
              "  1.3862943611198906,\n",
              "  1.3862943611198906,\n",
              "  1.3862943611198906,\n",
              "  0.28768207245178085,\n",
              "  1.3862943611198906],\n",
              " [1.3862943611198906,\n",
              "  1.3862943611198906,\n",
              "  1.3862943611198906,\n",
              "  1.3862943611198906,\n",
              "  1.1736001944781467,\n",
              "  1.3862943611198906,\n",
              "  0.28768207245178085,\n",
              "  1.1736001944781467,\n",
              "  1.3862943611198906,\n",
              "  1.1736001944781467,\n",
              "  1.3862943611198906,\n",
              "  1.1736001944781467],\n",
              " [1.1736001944781467,\n",
              "  1.3862943611198906,\n",
              "  1.3862943611198906,\n",
              "  1.3862943611198906,\n",
              "  1.1736001944781467,\n",
              "  0.28768207245178085,\n",
              "  1.1736001944781467,\n",
              "  1.3862943611198906,\n",
              "  1.3862943611198906,\n",
              "  1.3862943611198906,\n",
              "  1.1736001944781467,\n",
              "  1.1736001944781467,\n",
              "  1.3862943611198906,\n",
              "  1.1736001944781467],\n",
              " [1.3862943611198906,\n",
              "  1.3862943611198906,\n",
              "  0.6037331324768168,\n",
              "  0.6037331324768168,\n",
              "  1.1736001944781467,\n",
              "  0.6931471805599453,\n",
              "  1.3862943611198906,\n",
              "  1.1736001944781467,\n",
              "  1.3862943611198906,\n",
              "  1.3862943611198906,\n",
              "  0.6037331324768168,\n",
              "  0.6037331324768168,\n",
              "  1.1736001944781467,\n",
              "  1.3862943611198906,\n",
              "  1.3862943611198906,\n",
              "  1.1736001944781467,\n",
              "  0.6037331324768168,\n",
              "  0.6037331324768168]]"
            ]
          },
          "execution_count": 12,
          "metadata": {},
          "output_type": "execute_result"
        }
      ],
      "source": [
        "# tf-idf\n",
        "# w = (1 + log( tf(d) )) * log(N / df(t))\n",
        "\n",
        "tfidf_list = []\n",
        "for doc in stem_list:\n",
        "  temp = []\n",
        "  for token in doc:\n",
        "    tf = (1 + math.log(doc.count(token)))\n",
        "    idf = math.log(len(stem_list) / sum(x.count(token) for x in stem_list))\n",
        "    w = tf * idf\n",
        "    temp.append(w)\n",
        "  tfidf_list.append(temp)\n",
        "tfidf_list\n"
      ]
    },
    {
      "cell_type": "code",
      "execution_count": 13,
      "metadata": {
        "colab": {
          "base_uri": "https://localhost:8080/"
        },
        "id": "FMiuYNU143Gj",
        "outputId": "95b62335-f8a5-44a7-9c88-044b89c54fcf"
      },
      "outputs": [
        {
          "name": "stdout",
          "output_type": "stream",
          "text": [
            "Document 1\n",
            "elearning : 1.3862943611198906\n",
            "ptiik     : 0.6931471805599453\n",
            "atas      : 1.3862943611198906\n",
            "jam       : 1.3862943611198906\n",
            "malam     : 1.3862943611198906\n",
            "gak       : 1.3862943611198906\n",
            "buka      : 0.28768207245178085\n",
            "ya        : 1.3862943611198906\n",
            "\n",
            "Document 2\n",
            "ub        : 1.3862943611198906\n",
            "lahan     : 1.3862943611198906\n",
            "parkir    : 1.3862943611198906\n",
            "layak     : 1.3862943611198906\n",
            "jalan     : 1.1736001944781467\n",
            "ramai     : 1.3862943611198906\n",
            "buka      : 0.28768207245178085\n",
            "jalan     : 1.1736001944781467\n",
            "tol       : 1.3862943611198906\n",
            "brawijaya : 1.1736001944781467\n",
            "oh        : 1.3862943611198906\n",
            "brawijaya : 1.1736001944781467\n",
            "\n",
            "Document 3\n",
            "kelas     : 1.1736001944781467\n",
            "arsitektur: 1.3862943611198906\n",
            "organisasi: 1.3862943611198906\n",
            "komputer  : 1.3862943611198906\n",
            "penuh     : 1.1736001944781467\n",
            "buka      : 0.28768207245178085\n",
            "kelas     : 1.1736001944781467\n",
            "rugi      : 1.3862943611198906\n",
            "kalo      : 1.3862943611198906\n",
            "ngambil   : 1.3862943611198906\n",
            "sks       : 1.1736001944781467\n",
            "sks       : 1.1736001944781467\n",
            "yg        : 1.3862943611198906\n",
            "penuh     : 1.1736001944781467\n",
            "\n",
            "Document 4\n",
            "informasi : 1.3862943611198906\n",
            "tata      : 1.3862943611198906\n",
            "daftar    : 0.6037331324768168\n",
            "ulang     : 0.6037331324768168\n",
            "mahasiswa : 1.1736001944781467\n",
            "ptiik     : 0.6931471805599453\n",
            "tanggal   : 1.3862943611198906\n",
            "syarat    : 1.1736001944781467\n",
            "serah     : 1.3862943611198906\n",
            "berkas    : 1.3862943611198906\n",
            "daftar    : 0.6037331324768168\n",
            "ulang     : 0.6037331324768168\n",
            "mahasiswa : 1.1736001944781467\n",
            "bawa      : 1.3862943611198906\n",
            "salah     : 1.3862943611198906\n",
            "syarat    : 1.1736001944781467\n",
            "daftar    : 0.6037331324768168\n",
            "ulang     : 0.6037331324768168\n",
            "\n"
          ]
        }
      ],
      "source": [
        "for doc in range(len(tfidf_list)):\n",
        "  print(f\"Document {doc+1}\")\n",
        "  for i in range(len(tfidf_list[doc])):\n",
        "    print(\"{:<10}: {}\".format(stem_list[doc][i], tfidf_list[doc][i]))\n",
        "  print()"
      ]
    }
  ],
  "metadata": {
    "colab": {
      "provenance": []
    },
    "kernelspec": {
      "display_name": "Python 3",
      "name": "python3"
    },
    "language_info": {
      "codemirror_mode": {
        "name": "ipython",
        "version": 3
      },
      "file_extension": ".py",
      "mimetype": "text/x-python",
      "name": "python",
      "nbconvert_exporter": "python",
      "pygments_lexer": "ipython3",
      "version": "3.10.6"
    }
  },
  "nbformat": 4,
  "nbformat_minor": 0
}
